{
  "nbformat": 4,
  "nbformat_minor": 0,
  "metadata": {
    "colab": {
      "name": "Aula12.ipynb",
      "provenance": [],
      "collapsed_sections": [],
      "authorship_tag": "ABX9TyOLddykxMk6DU56UaPJfkYP",
      "include_colab_link": true
    },
    "kernelspec": {
      "name": "python3",
      "display_name": "Python 3"
    },
    "language_info": {
      "name": "python"
    }
  },
  "cells": [
    {
      "cell_type": "markdown",
      "metadata": {
        "id": "view-in-github",
        "colab_type": "text"
      },
      "source": [
        "<a href=\"https://colab.research.google.com/github/vitorvbtf/Curso-de-python-do-curso-em-video/blob/main/Aula12.ipynb\" target=\"_parent\"><img src=\"https://colab.research.google.com/assets/colab-badge.svg\" alt=\"Open In Colab\"/></a>"
      ]
    },
    {
      "cell_type": "markdown",
      "source": [
        "Desafio 036"
      ],
      "metadata": {
        "id": "0hAsYWeBjvfq"
      }
    },
    {
      "cell_type": "code",
      "execution_count": 43,
      "metadata": {
        "colab": {
          "base_uri": "https://localhost:8080/"
        },
        "id": "_EazYNy1_vYb",
        "outputId": "0ada64e1-fed8-495b-893d-13dfba015a05"
      },
      "outputs": [
        {
          "output_type": "stream",
          "name": "stdout",
          "text": [
            "Veja aqui se aprovamos um empréstimo para você!!\n",
            "----------------------------------------\n",
            "Digite aqui o valor da casa: 80000\n",
            "Digite aqui quanto que é o seu salário: 10000\n",
            "Digite aqui em quantos anos você pretende pagar: 7\n",
            "Você recebe R$10000 e a suas parcelas ficariam R$952.38\n",
            "Parabéns, o seu empréstimo foi aprovado!!\n"
          ]
        }
      ],
      "source": [
        "print('Veja aqui se aprovamos um empréstimo para você!!')\n",
        "print('-' * 40)\n",
        "\n",
        "valor_da_casa = int(input('Digite aqui o valor da casa: '))\n",
        "salario = int(input('Digite aqui quanto que é o seu salário: '))\n",
        "anos = int(input('Digite aqui em quantos anos você pretende pagar: '))\n",
        "\n",
        "meses = anos * 12\n",
        "mensalidade = valor_da_casa / meses\n",
        "porcentagem = (salario * 0.30)\n",
        "print('Você recebe R${} e a suas parcelas ficariam R${:.2f}'.format(salario, mensalidade))\n",
        "\n",
        "if mensalidade <= porcentagem:\n",
        "  print('Parabéns, o seu empréstimo foi aprovado!!')\n",
        "else:\n",
        "  print('Infelizmente o seu empréstimo foi negado.')"
      ]
    },
    {
      "cell_type": "markdown",
      "source": [
        "Desafio 037"
      ],
      "metadata": {
        "id": "DFVC34IkYaYA"
      }
    },
    {
      "cell_type": "code",
      "source": [
        "num = int(input('Digite um número inteiro: '))\n",
        "print('''Base de conversão:\n",
        "[ 1 ] Converter para BINÁRIO\n",
        "[ 2 ] Converter para OCTAL\n",
        "[ 3 ] Converte para HEXADECIMAL''')\n",
        "opçao = int(input('Digite aqui a sua opção: '))\n",
        "\n",
        "if opçao == 1:\n",
        "  print('{} convertido para BINARIO fica {}'.format(num, bin(num)[2:]))\n",
        "elif opçao == 2:\n",
        "  print('{} convertido para OCTAL fica {}'.format(num, oct(num)[2:]))\n",
        "elif opçao == 3:\n",
        "  print('{} convertido para HEXADECIMAL fica {}'.format(num, hex(num)[2:]))\n",
        "else:\n",
        "  print('Você digitou uma opção inválida')"
      ],
      "metadata": {
        "id": "TXWSgYQ1YcrM",
        "colab": {
          "base_uri": "https://localhost:8080/"
        },
        "outputId": "08294c67-796a-498b-e427-429a699c5d9c"
      },
      "execution_count": 56,
      "outputs": [
        {
          "output_type": "stream",
          "name": "stdout",
          "text": [
            "Digite um número inteiro: 444\n",
            "Base de conversão:\n",
            "[ 1 ] Converter para BINÁRIO\n",
            "[ 2 ] Converter para OCTAL\n",
            "[ 3 ] Converte para HEXADECIMAL\n",
            "Digite aqui a sua opção: 7\n",
            "Você digitou uma opção inválida\n"
          ]
        }
      ]
    },
    {
      "cell_type": "markdown",
      "source": [
        "Desafio 038"
      ],
      "metadata": {
        "id": "zEjx6vQ3acZ9"
      }
    },
    {
      "cell_type": "code",
      "source": [
        "n1 = int(input('Digite aqui um número: '))\n",
        "n2 = int(input('Digite aqui outro número: '))\n",
        "\n",
        "if n1 == n2:\n",
        "  print('não existe valor maior, os dois são iguais.')\n",
        "elif n1 > n2:\n",
        "  print('O {} é maior'.format(n1))\n",
        "  print('O {} é menor'.format(n2))\n",
        "else:\n",
        "  print('O {} é maior'.format(n2))\n",
        "  print('O {} é menor'.format(n1)) "
      ],
      "metadata": {
        "colab": {
          "base_uri": "https://localhost:8080/"
        },
        "id": "lLULVvGQaeXd",
        "outputId": "26367eaf-822c-42b8-885c-2316985dbae4"
      },
      "execution_count": 59,
      "outputs": [
        {
          "output_type": "stream",
          "name": "stdout",
          "text": [
            "Digite aqui um número: 12\n",
            "Digite aqui outro número: 12\n",
            "não existe valor maior, os dois são iguais.\n"
          ]
        }
      ]
    },
    {
      "cell_type": "markdown",
      "source": [
        "Desafio 039"
      ],
      "metadata": {
        "id": "I993jTZdhMx8"
      }
    },
    {
      "cell_type": "code",
      "source": [
        "print('Descubra aqui se você já está na idade certa para se alistar')\n",
        "print('-' * 45)\n",
        "idade = int(input('Digite aqui a sua idade: '))\n",
        "idade_certa = 18 - idade\n",
        "if idade == 18:\n",
        "  print('Você deve se alistar esse ano ao serviço militar mais próximo')\n",
        "elif idade > 18:\n",
        "  print('Você já passou do tempo previsto de se alistar')\n",
        "else:\n",
        "  print('Você ainda não possui idade sufuciente para se alistar, daqui a {} anos você já pode se alistar. '.format(idade_certa))\n"
      ],
      "metadata": {
        "colab": {
          "base_uri": "https://localhost:8080/"
        },
        "id": "U-_C4RZYhO2L",
        "outputId": "d9a6fc82-8a36-43a4-f26e-589997825989"
      },
      "execution_count": 60,
      "outputs": [
        {
          "output_type": "stream",
          "name": "stdout",
          "text": [
            "Descubra aqui se você já está na idade certa para se alistar\n",
            "---------------------------------------------\n",
            "Digite aqui a sua idade: 22\n",
            "Você já passou do tempo previsto de se alistar\n"
          ]
        }
      ]
    },
    {
      "cell_type": "markdown",
      "source": [
        "Desafio 040"
      ],
      "metadata": {
        "id": "ihLfo0Wplz-C"
      }
    },
    {
      "cell_type": "code",
      "source": [
        "print('Descubra aqui se o seu aluno foi aprovado')\n",
        "print('-' * 40)\n",
        "print('''Lembrando que esse programa foi definido para: \n",
        "notas abaixo de 5.0 = reprovado\n",
        "notas entre 5.0 e 6.9 = recuperação \n",
        "notas igual ou superio a 7 = Aprovado ''')\n",
        "print('-' * 40)\n",
        "nota1 = float(input('Digite aqui a primeira nota do aluno: '))\n",
        "nota2 = float(input('Digite aqui a segunda nota do aluno: '))\n",
        "media = (nota1 + nota2) / 2 \n",
        "\n",
        "if media < 5.0:\n",
        "  print('O aluno foi reprovado')\n",
        "elif 5 < media < 6.9:\n",
        "  print('O aluno está de recuperação') \n",
        "elif media > 10 :\n",
        "  print('Nota superior a 10, nota inválida!')\n",
        "else:\n",
        "  print('O aluno foi aprovado! ')"
      ],
      "metadata": {
        "colab": {
          "base_uri": "https://localhost:8080/"
        },
        "id": "8GfV0M6Hl1_R",
        "outputId": "bc100bcf-90dd-4009-ca5e-264554cea714"
      },
      "execution_count": 63,
      "outputs": [
        {
          "output_type": "stream",
          "name": "stdout",
          "text": [
            "Descubra aqui se o seu aluno foi aprovado\n",
            "----------------------------------------\n",
            "Lembrando que esse programa foi definido para: \n",
            "notas abaixo de 5.0 = reprovado\n",
            "notas entre 5.0 e 6.9 = recuperação \n",
            "notas igual ou superio a 7 = Aprovado \n",
            "----------------------------------------\n",
            "Digite aqui a primeira nota do aluno: 2\n",
            "Digite aqui a segunda nota do aluno: 4\n",
            "O aluno foi reprovado\n"
          ]
        }
      ]
    },
    {
      "cell_type": "markdown",
      "source": [
        "Desafio 041"
      ],
      "metadata": {
        "id": "rEXEErsNnq9H"
      }
    },
    {
      "cell_type": "code",
      "source": [
        "print('Descubra aqui a categoria que você pertence')\n",
        "idade = int(input('Digite aqui a sua idade: '))\n",
        "if idade <= 9 :\n",
        "  print('A sua categoria é MIRIM')\n",
        "elif idade <= 14:\n",
        "  print('A sua categoria é INFANTIL')\n",
        "elif idade <= 19:\n",
        "  print('A sua categoria é JUNIOR')\n",
        "elif idade <= 20:\n",
        "  print('A sua categoria é SÊNIOR')\n",
        "else:\n",
        "  print('A sua categoria é MASTER')"
      ],
      "metadata": {
        "colab": {
          "base_uri": "https://localhost:8080/"
        },
        "id": "LtZgie-anuax",
        "outputId": "ebff9cef-174c-4f52-fe59-213e524b131a"
      },
      "execution_count": 67,
      "outputs": [
        {
          "output_type": "stream",
          "name": "stdout",
          "text": [
            "Descubra aqui a categoria que você pertence\n",
            "Digite aqui a sua idade: 22\n",
            "A sua categoria é MASTER\n"
          ]
        }
      ]
    },
    {
      "cell_type": "markdown",
      "source": [
        "Desafio 042"
      ],
      "metadata": {
        "id": "ZndW7-Dms5-Z"
      }
    },
    {
      "cell_type": "code",
      "source": [
        "print('Analisador de triângulos')\n",
        "print('-' * 45)\n",
        "r1 = float(input('Digite aqui o tamanho da primeira reta em cm: '))\n",
        "r2 = float(input('Digite aqui o tamanho da segunda reta em cm: '))\n",
        "r3 = float(input('Digite aqui o tamanho da terceira reta em cm: '))\n",
        "\n",
        "if (r1 - r2) < r3 <(r1 + r2) and (r1 - r3) < r2 < (r1 + r3) and (r2 - r3) < r1 < (r2 + r3):\n",
        "  print('Essas três retas podem formar um triângulo ')\n",
        "  if r1 == r2 and r2 == r3:\n",
        "    print('Esse triângulo é equilátero, pois possui todos lados iguais.')\n",
        "  elif r1 == r2 or r1 == r3 or r2 == r3:\n",
        "    print('Esse triângulo é isósceles, pois possui dois lados iguais.')\n",
        "  else:\n",
        "      print('Esse triângulo é escaleno, pois possui todos os lados diferentes.')\n",
        "else:\n",
        "  print('Essas três retas não podem formar um triângulo ')"
      ],
      "metadata": {
        "colab": {
          "base_uri": "https://localhost:8080/"
        },
        "id": "F8CkCWcys7g0",
        "outputId": "5d9fb310-cc47-4506-d93c-fe963422506e"
      },
      "execution_count": 71,
      "outputs": [
        {
          "output_type": "stream",
          "name": "stdout",
          "text": [
            "Analisador de triângulos\n",
            "---------------------------------------------\n",
            "Digite aqui o tamanho da primeira reta em cm: 1\n",
            "Digite aqui o tamanho da segunda reta em cm: 9\n",
            "Digite aqui o tamanho da terceira reta em cm: 8\n",
            "Essas três retas não podem formar um triângulo \n"
          ]
        }
      ]
    },
    {
      "cell_type": "markdown",
      "source": [
        "Desafio 043"
      ],
      "metadata": {
        "id": "EAdQJZG-0Zd1"
      }
    },
    {
      "cell_type": "code",
      "source": [
        "print('Calcule o seu IMC')\n",
        "print('-=-' * 30)\n",
        "\n",
        "peso = float(input('Digite aqui o seu peso: (KG)'))\n",
        "altura = float(input('Digite aqui a sua altura: (M)'))\n",
        "imc = peso / (altura ** 2)\n",
        "\n",
        "if imc < 18.5:\n",
        "  print('Abaixo do peso')\n",
        "elif imc < 25:\n",
        "  print('Peso ideal')\n",
        "elif imc < 30:\n",
        "  print('Sobrepeso')\n",
        "elif imc < 40:\n",
        "  print('Obesidade')\n",
        "else:\n",
        "  print('Obesidade mórbida')"
      ],
      "metadata": {
        "colab": {
          "base_uri": "https://localhost:8080/"
        },
        "id": "NouveY3i0bgt",
        "outputId": "33f484c7-fbc7-4f2c-a6c9-7cb55dbbf8d3"
      },
      "execution_count": 75,
      "outputs": [
        {
          "output_type": "stream",
          "name": "stdout",
          "text": [
            "Calcule o seu IMC\n",
            "-=--=--=--=--=--=--=--=--=--=--=--=--=--=--=--=--=--=--=--=--=--=--=--=--=--=--=--=--=--=-\n",
            "Digite aqui o seu peso: (KG)120\n",
            "Digite aqui a sua altura: (M)1.75\n",
            "Obesidade\n"
          ]
        }
      ]
    },
    {
      "cell_type": "markdown",
      "source": [
        "Desafio 044"
      ],
      "metadata": {
        "id": "0mA8W5mm4YBQ"
      }
    },
    {
      "cell_type": "code",
      "source": [
        "print('Tabela de preços')\n",
        "print('-=-' * 20)\n",
        "preço = float(input('Digite aqui o preço do produto: '))\n",
        "print('''Formas de pagamento\n",
        "[ 1 ] À VISTA NO DINHEIRO / CHEQUE\n",
        "[ 2 ] À VISTA NO CARTÃO\n",
        "[ 3 ] 2X NO CARTÃO\n",
        "[ 4 ] 3X OU MAIS NO CARTÃO''')\n",
        "forma_de_pagamento = int(input('com base na tabela acima, qual a forma de pagamento? '))\n",
        "dinheiro_cheque = preço - (preço * 0.10) \n",
        "cartao =preço - (preço * 0.10) \n",
        "cartao_2x_parcelas = preço / 2 \n",
        "cartao_3x = (preço * 0.20) + preço\n",
        "cartao_3x_parcelas = cartao_3x / 3\n",
        "\n",
        "\n",
        "if forma_de_pagamento == 1:\n",
        "  print('Com o pagamento em dinheiro ou cheque o produto passa a custar R${}'.format(dinheiro_cheque))\n",
        "elif forma_de_pagamento == 2:\n",
        "  print('Com o pagamento em cartão a vista, o produto passa a custar R${}'.format(cartao))\n",
        "elif forma_de_pagamento == 3:\n",
        "  print('Com o pagamento em 2x no cartão o produto passa a custar R${} em duas parcelas de R${}'.format(preço, cartao_2x_parcelas))\n",
        "elif forma_de_pagamento == 4:\n",
        "  parcelas = int(input('Quantas parcelas: '))\n",
        "  mais_parcelas = cartao_3x / parcelas\n",
        "  if parcelas == 3:\n",
        "   print('Com o pagamento em 3x no cartão o produto passa a custar R${} em três parcelas de R${}'.format(cartao_3x, cartao_3x_parcelas)) \n",
        "  else:\n",
        "    print('Com o pagamento em {}x no cartão o produto passa a custar R${} em {} parcelas de R${}'.format(parcelas,cartao_3x, parcelas, mais_parcelas))\n",
        "else:\n",
        "  print('forma de pagamento inválido')"
      ],
      "metadata": {
        "colab": {
          "base_uri": "https://localhost:8080/"
        },
        "id": "gB_fx2qC4Uuh",
        "outputId": "4c5bc72b-fafb-4cf5-e3c0-02e5e161fb01"
      },
      "execution_count": 77,
      "outputs": [
        {
          "output_type": "stream",
          "name": "stdout",
          "text": [
            "Tabela de preços\n",
            "-=--=--=--=--=--=--=--=--=--=--=--=--=--=--=--=--=--=--=--=-\n",
            "Digite aqui o preço do produto: 400\n",
            "Formas de pagamento\n",
            "[ 1 ] À VISTA NO DINHEIRO / CHEQUE\n",
            "[ 2 ] À VISTA NO CARTÃO\n",
            "[ 3 ] 2X NO CARTÃO\n",
            "[ 4 ] 3X OU MAIS NO CARTÃO\n",
            "com base na tabela acima, qual a forma de pagamento? 4\n",
            "Quantas parcelas: 10\n",
            "Com o pagamento em 10x no cartão o produto passa a custar R$480.0 em 10 parcelas de R$48.0\n"
          ]
        }
      ]
    },
    {
      "cell_type": "markdown",
      "source": [
        "Desafio 045\n"
      ],
      "metadata": {
        "id": "Ee-HbEga1A3L"
      }
    },
    {
      "cell_type": "code",
      "source": [
        "import random\n",
        "import time\n",
        "print('vamos jogar jokenpô!!!')\n",
        "print('-=-' * 20)\n",
        "participante = input('Escreva aqui a sua escolha entre pedra, papel, tesoura: ')\n",
        "print('JO')\n",
        "time.sleep(1)\n",
        "print('KEN')\n",
        "time.sleep(1.2)\n",
        "print('PÔ')\n",
        "participante_maiusculo = participante.upper()\n",
        "sorteio = ['PEDRA', 'PAPEL', 'TESOURA']\n",
        "resultado_do_sorteio = random.choice(sorteio)\n",
        "\n",
        "if participante_maiusculo == resultado_do_sorteio:\n",
        "  print('Nós empatamos, eu escolhi {} e você {}'.format(resultado_do_sorteio, participante_maiusculo))\n",
        "elif participante_maiusculo == 'PEDRA' and resultado_do_sorteio == 'PAPEL':\n",
        "  print('Eu ganhei, eu escolhi {} e você {}'.format(resultado_do_sorteio, participante_maiusculo))\n",
        "elif participante_maiusculo == 'PAPEL' and resultado_do_sorteio == 'PEDRA':\n",
        "  print('Você ganhou, eu escolhi {} e você {}'.format(resultado_do_sorteio, participante_maiusculo))\n",
        "elif participante_maiusculo == 'TESOURA' and resultado_do_sorteio == 'PEDRA':\n",
        "  print('Eu ganhei, eu escolhi {} e você {}'.format(resultado_do_sorteio, participante_maiusculo))\n",
        "elif participante_maiusculo == 'PEDRA' and resultado_do_sorteio == 'TESOURA':\n",
        "  print('Você ganhou, eu escolhi {} e você {}'.format(resultado_do_sorteio, participante_maiusculo))\n",
        "elif participante_maiusculo == 'TESOURA' and resultado_do_sorteio == 'PAPEL':\n",
        "  print('Você ganhou, eu escolhi {} e você {}'.format(resultado_do_sorteio, participante_maiusculo))\n",
        "elif participante_maiusculo == 'PAPEL' and resultado_do_sorteio == 'TESOURA':\n",
        "   print('Eu ganhei, eu escolhi {} e você {}'.format(resultado_do_sorteio, participante_maiusculo))\n",
        "else:\n",
        "  print('Você escolheu uma opção inválida')"
      ],
      "metadata": {
        "colab": {
          "base_uri": "https://localhost:8080/"
        },
        "id": "VrwaqNhv1I2i",
        "outputId": "6d9302c9-ba56-48c7-82e9-ae305a5f8cd4"
      },
      "execution_count": 78,
      "outputs": [
        {
          "output_type": "stream",
          "name": "stdout",
          "text": [
            "vamos jogar jokenpô!!!\n",
            "-=--=--=--=--=--=--=--=--=--=--=--=--=--=--=--=--=--=--=--=-\n",
            "Escreva aqui a sua escolha entre pedra, papel, tesoura: papel\n",
            "JO\n",
            "KEN\n",
            "PÔ\n",
            "Eu ganhei, eu escolhi TESOURA e você PAPEL\n"
          ]
        }
      ]
    }
  ]
}