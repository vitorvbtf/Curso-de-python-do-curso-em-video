{
  "nbformat": 4,
  "nbformat_minor": 0,
  "metadata": {
    "colab": {
      "name": "Aula08.ipynb",
      "provenance": [],
      "collapsed_sections": [],
      "authorship_tag": "ABX9TyNE3tR/gcuhjYRj15OgMvWI",
      "include_colab_link": true
    },
    "kernelspec": {
      "name": "python3",
      "display_name": "Python 3"
    },
    "language_info": {
      "name": "python"
    }
  },
  "cells": [
    {
      "cell_type": "markdown",
      "metadata": {
        "id": "view-in-github",
        "colab_type": "text"
      },
      "source": [
        "<a href=\"https://colab.research.google.com/github/vitorvbtf/Curso-de-python-do-curso-em-video/blob/main/Aula08.ipynb\" target=\"_parent\"><img src=\"https://colab.research.google.com/assets/colab-badge.svg\" alt=\"Open In Colab\"/></a>"
      ]
    },
    {
      "cell_type": "code",
      "execution_count": 4,
      "metadata": {
        "colab": {
          "base_uri": "https://localhost:8080/"
        },
        "id": "gCN_q_KuVcPl",
        "outputId": "d4be4872-cdd9-45ec-dfaf-baedcf1bed7d"
      },
      "outputs": [
        {
          "output_type": "stream",
          "name": "stdout",
          "text": [
            "Digite um número: 548\n",
            "A raiz de 548 é 24\n"
          ]
        }
      ],
      "source": [
        "import math\n",
        "num = int(input('Digite um número: '))\n",
        "raiz = math.sqrt(num)\n",
        "print('A raiz de {} é {}'.format(num, math.ceil(raiz)))\n"
      ]
    },
    {
      "cell_type": "markdown",
      "source": [
        "Desafio 016"
      ],
      "metadata": {
        "id": "HNXeCAUhjOUT"
      }
    },
    {
      "cell_type": "code",
      "source": [
        "from math import trunc\n",
        "numero = float(input('Digite um número real: '))\n",
        "print(trunc(numero))\n"
      ],
      "metadata": {
        "colab": {
          "base_uri": "https://localhost:8080/"
        },
        "id": "ctuVyYbeiI27",
        "outputId": "14bbf359-2dd6-4ef0-b440-ccef1c827f4f"
      },
      "execution_count": 5,
      "outputs": [
        {
          "output_type": "stream",
          "name": "stdout",
          "text": [
            "Digite um número real: 9.123\n",
            "9\n"
          ]
        }
      ]
    },
    {
      "cell_type": "markdown",
      "source": [
        "Desafio 017\n"
      ],
      "metadata": {
        "id": "TgcFh6OZkLVJ"
      }
    },
    {
      "cell_type": "code",
      "source": [
        "cateto_oposto = float(input('Digite aqui o comprimento do cateto oposto: '))\n",
        "cateto_adjacente = float(input('Digite aqui o comprimento do cateto adjacente: '))\n",
        "pitagoras = ((cateto_adjacente ** 2) + (cateto_oposto ** 2))\n",
        "resultado = pitagoras **(1/2)\n",
        "print('A hipotenusa deste triângulo retângulo é: {:.2f4}'.format(resultado))"
      ],
      "metadata": {
        "colab": {
          "base_uri": "https://localhost:8080/"
        },
        "id": "BVMgb1xxkNPH",
        "outputId": "29e894c9-4252-488c-f3b7-e0ea768b9c71"
      },
      "execution_count": 7,
      "outputs": [
        {
          "output_type": "stream",
          "name": "stdout",
          "text": [
            "Digite aqui o comprimento do cateto oposto: 3.5\n",
            "Digite aqui o comprimento do cateto adjacente: 4.75\n",
            "A hipotenusa deste triângulo retângulo é: 5.90\n"
          ]
        }
      ]
    },
    {
      "cell_type": "code",
      "source": [
        "import math\n",
        "cateto_oposto = float(input('Digite aqui o comprimento do cateto oposto: '))\n",
        "cateto_adjacente = float(input('Digite aqui o comprimento do cateto adjacente '))\n",
        "hipotenusa = math.hypot(cateto_oposto, cateto_adjacente)\n",
        "print(hipotenusa)"
      ],
      "metadata": {
        "colab": {
          "base_uri": "https://localhost:8080/"
        },
        "id": "DSVyaqjTnJ2W",
        "outputId": "43c19783-997c-4e86-b850-371b252b924b"
      },
      "execution_count": 21,
      "outputs": [
        {
          "output_type": "stream",
          "name": "stdout",
          "text": [
            "Digite aqui o comprimento do cateto oposto: 6\n",
            "Digite aqui o comprimento do cateto adjacente 8\n",
            "10.0\n"
          ]
        }
      ]
    },
    {
      "cell_type": "markdown",
      "source": [
        "Desafio 018\n"
      ],
      "metadata": {
        "id": "7pVNK2zSo2lL"
      }
    },
    {
      "cell_type": "code",
      "source": [
        "import math\n",
        "angulo = int(input('Digite o ângulo '))\n",
        "seno = math.sin(math.radians(angulo))\n",
        "tangente = math.tan(math.radians(angulo))\n",
        "cosseno = math.cos(math.radians(angulo))\n",
        "print('O cosseno deste ângulo é {:.2f}, o seno é {:.2f} e o tangente é {:.2f}'.format\n",
        "      (cosseno, seno, tangente))"
      ],
      "metadata": {
        "colab": {
          "base_uri": "https://localhost:8080/"
        },
        "id": "h4jYvL0Io45W",
        "outputId": "7daa64da-9451-4b27-e5a3-a00bff06d2a6"
      },
      "execution_count": 8,
      "outputs": [
        {
          "output_type": "stream",
          "name": "stdout",
          "text": [
            "Digite o ângulo 30\n",
            "O cosseno deste ângulo é 0.87, o seno é 0.50 e o tangente é 0.58\n"
          ]
        }
      ]
    },
    {
      "cell_type": "markdown",
      "source": [
        "Desafio 019"
      ],
      "metadata": {
        "id": "07p3BIQIq5x7"
      }
    },
    {
      "cell_type": "code",
      "source": [
        "import random\n",
        "participante_1 = input('Digite o nome do primeiro participante ')\n",
        "participante_2 = input('Digite o nome do segundo participante ')\n",
        "participante_3 = input('Digite o nome do terceiro participante ')\n",
        "participante_4 = input('Digite o nome do quarto participante ')\n",
        "nomes = participante_1, participante_2, participante_3, participante_4\n",
        "sorteio = random.choice(nomes)\n",
        "print('O aluno sorteado foi o/a: {}'.format(sorteio))"
      ],
      "metadata": {
        "colab": {
          "base_uri": "https://localhost:8080/"
        },
        "id": "DZ-zYqLGrEtc",
        "outputId": "af903553-3ea8-4f74-a29c-f12338553b83"
      },
      "execution_count": 9,
      "outputs": [
        {
          "output_type": "stream",
          "name": "stdout",
          "text": [
            "Digite o nome do primeiro participante Paulo\n",
            "Digite o nome do segundo participante Pedro\n",
            "Digite o nome do terceiro participante Ana\n",
            "Digite o nome do quarto participante Maria\n",
            "O aluno sorteado foi o/a: Ana\n"
          ]
        }
      ]
    },
    {
      "cell_type": "markdown",
      "source": [
        "Desafio 020"
      ],
      "metadata": {
        "id": "VTcxsb8p0PSQ"
      }
    },
    {
      "cell_type": "code",
      "source": [
        "import random\n",
        "representante_1 = input('Digite o nome do representa do grupo ')\n",
        "representante_2 = input('Digite o nome do representante de outro grupo ')\n",
        "representante_3 = input('Digite o nome do representante de outro grupo ')\n",
        "representante_4 = input('Digite o nome do representante de outro grupo ')\n",
        "\n",
        "grupos = [representante_1, representante_2, representante_3, representante_4]\n",
        "random.shuffle(grupos)\n",
        "\n",
        "print('Os grupos que vão se apresentar, vão seguir a seguinte ordem {}'.format(\n",
        "grupos))"
      ],
      "metadata": {
        "colab": {
          "base_uri": "https://localhost:8080/"
        },
        "id": "FIMQFFEuw3IB",
        "outputId": "a076e757-84de-42fe-a887-6671ebad06bf"
      },
      "execution_count": 10,
      "outputs": [
        {
          "output_type": "stream",
          "name": "stdout",
          "text": [
            "Digite o nome do representa do grupo Gustavo\n",
            "Digite o nome do representante de outro grupo Rafael\n",
            "Digite o nome do representante de outro grupo Elaine\n",
            "Digite o nome do representante de outro grupo Luciana\n",
            "Os grupos que vão se apresentar, vão seguir a seguinte ordem ['Rafael', 'Luciana', 'Gustavo', 'Elaine']\n"
          ]
        }
      ]
    }
  ]
}