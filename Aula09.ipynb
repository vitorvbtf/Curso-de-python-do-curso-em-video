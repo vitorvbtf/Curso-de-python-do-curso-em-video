{
  "nbformat": 4,
  "nbformat_minor": 0,
  "metadata": {
    "colab": {
      "name": "Aula09.ipynb",
      "provenance": [],
      "collapsed_sections": [],
      "authorship_tag": "ABX9TyMisIyuyUlfQpcbEanCEpfr",
      "include_colab_link": true
    },
    "kernelspec": {
      "name": "python3",
      "display_name": "Python 3"
    },
    "language_info": {
      "name": "python"
    }
  },
  "cells": [
    {
      "cell_type": "markdown",
      "metadata": {
        "id": "view-in-github",
        "colab_type": "text"
      },
      "source": [
        "<a href=\"https://colab.research.google.com/github/vitorvbtf/Curso-de-python-do-curso-em-video/blob/main/Aula09.ipynb\" target=\"_parent\"><img src=\"https://colab.research.google.com/assets/colab-badge.svg\" alt=\"Open In Colab\"/></a>"
      ]
    },
    {
      "cell_type": "code",
      "execution_count": null,
      "metadata": {
        "colab": {
          "base_uri": "https://localhost:8080/"
        },
        "id": "ljTh7IHdhWqc",
        "outputId": "6100f7ce-c80e-4063-d918-587c0439e04a"
      },
      "outputs": [
        {
          "output_type": "stream",
          "name": "stdout",
          "text": [
            "so em vide\n",
            "curso em vide\n",
            "croe ie yhn\n",
            "conjunto das palavras escritas, em livro, folheto, documento etc. p.opos. a comentários, aditamentos, sumário etc.; redação original de qualquer obra escrita.\n",
            "um t. manuscritoTexto é uma produção, verbal ou não verbal, que se constitui com algum código, no intuito de comunicar algo a alguém, em determinado tempo e espaço. Sua definição ampla se deve ao fato de também abranger diversos formatos.\n"
          ]
        }
      ],
      "source": [
        "frase = 'curso em video python'\n",
        "print(frase [3:13])\n",
        "print(frase [:13])\n",
        "print(frase [::2])\n",
        "\n"
      ]
    },
    {
      "cell_type": "markdown",
      "source": [
        "Desafio 022"
      ],
      "metadata": {
        "id": "0XDBSTmeG_WX"
      }
    },
    {
      "cell_type": "code",
      "source": [
        "nome = input('Digite o seu nome completo ')\n",
        "# a)\n",
        "print(nome.upper())\n",
        "# b)\n",
        "print(nome.lower())\n",
        "# c)\n",
        "indice = nome.split()\n",
        "print(indice)\n",
        "juntos = (''.join(indice))\n",
        "print(juntos)\n",
        "print(len(juntos))\n",
        "# d)\n",
        "print(len(indice[0]))\n"
      ],
      "metadata": {
        "colab": {
          "base_uri": "https://localhost:8080/"
        },
        "id": "k4qCRxoBG-H5",
        "outputId": "4109e324-a460-4520-ae99-8f9dd8629512"
      },
      "execution_count": 22,
      "outputs": [
        {
          "output_type": "stream",
          "name": "stdout",
          "text": [
            "Digite o seu nome completo Vítor Bruno Toscano Ferreira\n",
            "VÍTOR BRUNO TOSCANO FERREIRA\n",
            "vítor bruno toscano ferreira\n",
            "['Vítor', 'Bruno', 'Toscano', 'Ferreira']\n",
            "VítorBrunoToscanoFerreira\n",
            "25\n",
            "5\n"
          ]
        }
      ]
    },
    {
      "cell_type": "markdown",
      "source": [
        "Desafio 023\n"
      ],
      "metadata": {
        "id": "_EIusby4CiRf"
      }
    },
    {
      "cell_type": "code",
      "source": [
        "numero = input('digite um numero de 0 a 9999: ')\n",
        "print('Unidade: {}'.format(numero[3]))\n",
        "print('Dezena: {}'.format(numero[2]))\n",
        "print('centena: {}'.format(numero[1]))\n",
        "print('milhar: {}'.format(numero[0]))"
      ],
      "metadata": {
        "colab": {
          "base_uri": "https://localhost:8080/"
        },
        "id": "B3cnAck6giFQ",
        "outputId": "d9e7c6be-fcfb-421e-8222-c895e09c007c"
      },
      "execution_count": 72,
      "outputs": [
        {
          "output_type": "stream",
          "name": "stdout",
          "text": [
            "digite um numero de 0 a 9999: 1254\n",
            "Unidade: 4\n",
            "Dezena: 5\n",
            "centena: 2\n",
            "milhar: 1\n"
          ]
        }
      ]
    },
    {
      "cell_type": "code",
      "source": [
        "numero = int(input('digite um numero de 0 a 9999: '))\n",
        "unidade = numero // 1 % 10\n",
        "dezena = numero // 10 % 10\n",
        "centena = numero // 100 % 10\n",
        "milhar = numero // 1000 % 10\n",
        "print('Unidade: {}'.format(unidade))\n",
        "print('Dezena: {}'.format(dezena))\n",
        "print('centena: {}'.format(centena))\n",
        "print('milhar: {}'.format(milhar))"
      ],
      "metadata": {
        "colab": {
          "base_uri": "https://localhost:8080/"
        },
        "id": "BuCjImllCkrV",
        "outputId": "579156b9-4650-414c-c064-c4f545a0d5eb"
      },
      "execution_count": 71,
      "outputs": [
        {
          "output_type": "stream",
          "name": "stdout",
          "text": [
            "digite um numero de 0 a 9999: 12\n",
            "Unidade: 2\n",
            "Dezena: 1\n",
            "centena: 0\n",
            "milhar: 0\n"
          ]
        }
      ]
    },
    {
      "cell_type": "markdown",
      "source": [
        "Desafio 024"
      ],
      "metadata": {
        "id": "ilEx_xLbGy8n"
      }
    },
    {
      "cell_type": "code",
      "source": [
        "#Descubra se o nome da cidade comece com 'santo'\n",
        "cidade = input('Digite o nome de uma cidade: ')\n",
        "cidade = cidade.upper()\n",
        "cidade = cidade.strip()\n",
        "\n",
        "print((cidade.find('SANTO')) == 0)"
      ],
      "metadata": {
        "colab": {
          "base_uri": "https://localhost:8080/"
        },
        "id": "e9_eXbPOG2vd",
        "outputId": "6876366b-b3b4-40d3-ffba-a8b5ba42abb5"
      },
      "execution_count": 77,
      "outputs": [
        {
          "output_type": "stream",
          "name": "stdout",
          "text": [
            "Digite o nome de uma cidade: SAnto antonio\n",
            "True\n"
          ]
        }
      ]
    },
    {
      "cell_type": "markdown",
      "source": [
        "Desafio 025\n"
      ],
      "metadata": {
        "id": "waT0Rdv2JFzy"
      }
    },
    {
      "cell_type": "code",
      "source": [
        "#Descubra se o nome de uma pessoa tem 'Silva'\n",
        "nome = input('Digite o nome completo de uma pessoa: ')\n",
        "print('SILVA'in nome.upper())"
      ],
      "metadata": {
        "colab": {
          "base_uri": "https://localhost:8080/"
        },
        "id": "QgoUR9f3i9dv",
        "outputId": "0bc5edf6-ca09-48dd-8dd7-8c3899b4446f"
      },
      "execution_count": 82,
      "outputs": [
        {
          "output_type": "stream",
          "name": "stdout",
          "text": [
            "Digite o nome completo de uma pessoa: Vítor Silva Toscano Ferreira\n",
            "True\n"
          ]
        }
      ]
    },
    {
      "cell_type": "code",
      "source": [
        "#Descubra se o nome de uma pessoa tem 'Silva'\n",
        "nome = input('Digite o nome completo de uma pessoa: ')\n",
        "nome = nome.upper()\n",
        "print(nome.find('SILVA') > 0)"
      ],
      "metadata": {
        "colab": {
          "base_uri": "https://localhost:8080/"
        },
        "id": "kYOQVwMiJH4f",
        "outputId": "02a083df-97a7-4a35-f2e4-9da12a10ece7"
      },
      "execution_count": 78,
      "outputs": [
        {
          "output_type": "stream",
          "name": "stdout",
          "text": [
            "Digite o nome completo de uma pessoa: Vítor Silva Toscano Ferreira\n",
            "True\n"
          ]
        }
      ]
    },
    {
      "cell_type": "markdown",
      "source": [
        "Desafio 026"
      ],
      "metadata": {
        "id": "rarLIv8aLq8F"
      }
    },
    {
      "cell_type": "code",
      "source": [
        "# Descubra quantas vezes aparece a letra 'A'\n",
        "# Em que posição a letra 'A' aparece pela primeira vez  \n",
        "# Em que posição a letra 'A' aparece pela ultima vez\n",
        "\n",
        "nome = input('Digite uma frase ')\n",
        "nome = nome.upper()\n",
        "nome = nome.strip()\n",
        "print(nome)\n",
        "print(nome.count('A'))\n",
        "print(nome.find('A')+1)\n",
        "print(nome.rfind('A')+1)\n"
      ],
      "metadata": {
        "colab": {
          "base_uri": "https://localhost:8080/"
        },
        "id": "ssO2AH0jLteD",
        "outputId": "0cd38dad-61f7-460e-af3f-875500da600e"
      },
      "execution_count": 86,
      "outputs": [
        {
          "output_type": "stream",
          "name": "stdout",
          "text": [
            "Digite uma frase    amanda ama pedro\n",
            "AMANDA AMA PEDRO\n",
            "5\n",
            "1\n",
            "10\n"
          ]
        }
      ]
    },
    {
      "cell_type": "markdown",
      "source": [
        "Desafio 027\n"
      ],
      "metadata": {
        "id": "tQX5uJJ3QMsn"
      }
    },
    {
      "cell_type": "code",
      "source": [
        "# Descubra o primeiro e o ultimo nome de uma pessoa\n",
        "\n",
        "nome = input('Digite o nome completo de uma pessoa: ')\n",
        "nome = nome.split()\n",
        "print('Primeiro: {}'.format(nome[0]))\n",
        "print('último: {}'.format(nome[len(nome)-1]))\n",
        "\n"
      ],
      "metadata": {
        "colab": {
          "base_uri": "https://localhost:8080/"
        },
        "id": "V681FVsfQVyN",
        "outputId": "0cc112bb-45a4-4c54-cafa-b438d51468cb"
      },
      "execution_count": 91,
      "outputs": [
        {
          "output_type": "stream",
          "name": "stdout",
          "text": [
            "Digite o nome completo de uma pessoa: Vitor Bruno Toscano Ferreira dos Santos\n",
            "Primeiro: Vitor\n",
            "último: Santos\n"
          ]
        }
      ]
    }
  ]
}