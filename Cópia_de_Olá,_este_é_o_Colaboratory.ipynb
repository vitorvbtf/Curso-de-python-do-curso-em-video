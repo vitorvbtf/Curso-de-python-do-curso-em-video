{
  "cells": [
    {
      "cell_type": "markdown",
      "metadata": {
        "id": "view-in-github",
        "colab_type": "text"
      },
      "source": [
        "<a href=\"https://colab.research.google.com/github/vitorvbtf/Curso-de-python-do-curso-em-video/blob/main/C%C3%B3pia_de_Ol%C3%A1%2C_este_%C3%A9_o_Colaboratory.ipynb\" target=\"_parent\"><img src=\"https://colab.research.google.com/assets/colab-badge.svg\" alt=\"Open In Colab\"/></a>"
      ]
    },
    {
      "cell_type": "code",
      "source": [
        "temp_f = int(input('digite a temperatura em fahrenheit '))\n",
        "\n",
        "resultado_calculo1 = ((temp_f - 32) * (5 / 9))\n",
        "#resultado_calculo2 = (5 / 9)\n",
        "\n",
        "#resultado_celsius = resultado_calculo1 * resultado_calculo2\n",
        "print(resultado_calculo1)\n",
        "\n",
        "if resultado_calculo1 < 0:\n",
        "  print('geladaço')\n",
        "elif 0 < resultado_calculo1 < 10:\n",
        "    print('frio para cacete')\n",
        "elif 25 < resultado_calculo1 < 40: \n",
        "  print('tá calor')\n",
        "else:\n",
        "    print('ta calor para cacete')\n"
      ],
      "metadata": {
        "id": "4bVTDCyJMAKk",
        "outputId": "d5d23e48-0f94-42ea-878b-616b98f15456",
        "colab": {
          "base_uri": "https://localhost:8080/"
        }
      },
      "execution_count": 8,
      "outputs": [
        {
          "output_type": "stream",
          "name": "stdout",
          "text": [
            "digite a temperatura em fahrenheit 77\n",
            "25.0\n",
            "ta calor para cacete\n"
          ]
        }
      ]
    },
    {
      "cell_type": "code",
      "source": [
        "temp_c = int(input('digite a temperatura em celsius'))\n",
        "0\n",
        "resultado_calculo1 = (9 * temp_c + 160)\n",
        "\n",
        "resultado_fahrenheit = resultado_calculo1 / 5 \n",
        "\n",
        "print(resultado_fahrenheit)"
      ],
      "metadata": {
        "id": "5Voa3ZwTQjGl",
        "outputId": "05156ca3-c40d-4347-ea52-e71486faf5d6",
        "colab": {
          "base_uri": "https://localhost:8080/"
        }
      },
      "execution_count": null,
      "outputs": [
        {
          "output_type": "stream",
          "name": "stdout",
          "text": [
            "digite a temperatura em celsius73\n",
            "163.4\n"
          ]
        }
      ]
    },
    {
      "cell_type": "markdown",
      "source": [
        ""
      ],
      "metadata": {
        "id": "jsaah6IXXxcY"
      }
    },
    {
      "cell_type": "code",
      "source": [
        "print('peso ideal para homens')\n",
        "altura = float(input('coloque a sua altura '))\n",
        "peso_ideal_do_homem = ((72.7 * altura) - 58)\n",
        "print(peso_ideal_do_homem)\n",
        "\n",
        "ifpeso_ideal_do_homem < 90) {\n",
        "print('parabens')\n",
        "}elif{\n",
        "    \n",
        "}"
      ],
      "metadata": {
        "id": "fU31WlhgUk00",
        "outputId": "4c85fae8-c024-4042-9622-a85da0af1825",
        "colab": {
          "base_uri": "https://localhost:8080/"
        }
      },
      "execution_count": null,
      "outputs": [
        {
          "output_type": "stream",
          "name": "stdout",
          "text": [
            "peso ideal para homens\n",
            "coloque a sua altura 1.99\n",
            "86.673\n"
          ]
        }
      ]
    }
  ],
  "metadata": {
    "colab": {
      "collapsed_sections": [],
      "name": "Cópia de Olá, este é o Colaboratory",
      "toc_visible": true,
      "provenance": [],
      "include_colab_link": true
    },
    "kernelspec": {
      "display_name": "Python 3",
      "name": "python3"
    }
  },
  "nbformat": 4,
  "nbformat_minor": 0
}