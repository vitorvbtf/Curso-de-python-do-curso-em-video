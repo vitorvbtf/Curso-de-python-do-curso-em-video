{
  "nbformat": 4,
  "nbformat_minor": 0,
  "metadata": {
    "colab": {
      "name": "Aula_06",
      "provenance": [],
      "collapsed_sections": [],
      "toc_visible": true,
      "authorship_tag": "ABX9TyNj0IgDOlKJmwin03HGF0En",
      "include_colab_link": true
    },
    "kernelspec": {
      "name": "python3",
      "display_name": "Python 3"
    },
    "language_info": {
      "name": "python"
    }
  },
  "cells": [
    {
      "cell_type": "markdown",
      "metadata": {
        "id": "view-in-github",
        "colab_type": "text"
      },
      "source": [
        "<a href=\"https://colab.research.google.com/github/vitorvbtf/Curso-de-python-do-curso-em-video/blob/main/Aula_06.ipynb\" target=\"_parent\"><img src=\"https://colab.research.google.com/assets/colab-badge.svg\" alt=\"Open In Colab\"/></a>"
      ]
    },
    {
      "cell_type": "code",
      "execution_count": 1,
      "metadata": {
        "colab": {
          "base_uri": "https://localhost:8080/"
        },
        "id": "k0Bx562sG9F1",
        "outputId": "ff76173b-658a-4e6b-d4f8-692469d870c5"
      },
      "outputs": [
        {
          "output_type": "stream",
          "name": "stdout",
          "text": [
            "Digite um valor: 5\n",
            "Digite mais um valor: 6\n",
            "A soma entre 5 e 6 vale 11\n"
          ]
        }
      ],
      "source": [
        "n1 = int(input('Digite um valor: '))\n",
        "n2 = int(input('Digite mais um valor: '))\n",
        "soma = n1 + n2\n",
        "\n",
        "print('A soma entre {} e {} vale {}'.format(n1, n2, soma))\n"
      ]
    },
    {
      "cell_type": "code",
      "source": [
        "n = input('Digite algo: ')\n",
        "print(n.isalnum())\n",
        "print(n.isalpha())\n"
      ],
      "metadata": {
        "colab": {
          "base_uri": "https://localhost:8080/"
        },
        "id": "Otfw6tiuHlLR",
        "outputId": "b95d7922-9177-4a7a-f65b-cbf6849437d9"
      },
      "execution_count": 6,
      "outputs": [
        {
          "output_type": "stream",
          "name": "stdout",
          "text": [
            "Digite algo: XXXXX5\n",
            "True\n",
            "False\n"
          ]
        }
      ]
    },
    {
      "cell_type": "markdown",
      "source": [
        "Desafio 003\n"
      ],
      "metadata": {
        "id": "15-5kryZK6cc"
      }
    },
    {
      "cell_type": "code",
      "source": [
        "n1 = int(input('Digite um número '))\n",
        "n2 = int(input('Digite mais um número ')) \n",
        "resultado = n1 + n2\n",
        "print('A soma de {} e {} vale {}'.format (n1, n2, resultado))"
      ],
      "metadata": {
        "colab": {
          "base_uri": "https://localhost:8080/"
        },
        "id": "PdAs8bozK1ns",
        "outputId": "37dc9fb4-9eb1-4c25-cf15-9355fc731a49"
      },
      "execution_count": 9,
      "outputs": [
        {
          "output_type": "stream",
          "name": "stdout",
          "text": [
            "Digite um número 10\n",
            "Digite mais um número 20\n",
            "A soma de 10 e 20 vale 30\n"
          ]
        }
      ]
    },
    {
      "cell_type": "markdown",
      "source": [
        "Desafio 004"
      ],
      "metadata": {
        "id": "axLcuwNMMMfE"
      }
    },
    {
      "cell_type": "code",
      "source": [
        "informacao = input('Digite qualquer coisa: ')\n",
        "print(type(informacao))\n",
        "print('Essa variavel é numérica? ', informacao.isalnum())\n",
        "print('Essa variavel são letras? ',informacao.isalpha())\n",
        "print('Essa variavel é um número decimal? ',informacao.isdecimal())\n",
        "print('Essa variavel é Tem apenas letras maiúsculas? ',informacao.isupper())\n",
        "print('Essa variavel é tem apenas letras minúsculas? ',informacao.islower())\n",
        "\n"
      ],
      "metadata": {
        "colab": {
          "base_uri": "https://localhost:8080/"
        },
        "id": "WMP25wm8MOtb",
        "outputId": "634d1b22-d436-42e6-8423-8c40cc01df6b"
      },
      "execution_count": 24,
      "outputs": [
        {
          "output_type": "stream",
          "name": "stdout",
          "text": [
            "Digite qualquer coisa: 10\n",
            "<class 'str'>\n",
            "Essa variavel é numérica?  True\n",
            "Essa variavel são letras?  False\n",
            "Essa variavel é um número decimal?  True\n",
            "Essa variavel é Tem apenas letras maiúsculas?  False\n",
            "Essa variavel é tem apenas letras minúsculas?  False\n"
          ]
        }
      ]
    }
  ]
}