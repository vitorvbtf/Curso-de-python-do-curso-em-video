{
  "nbformat": 4,
  "nbformat_minor": 0,
  "metadata": {
    "colab": {
      "name": "Aula10.ipynb",
      "provenance": [],
      "collapsed_sections": [],
      "authorship_tag": "ABX9TyO9IZYUpcm721eUiFXNR5hE",
      "include_colab_link": true
    },
    "kernelspec": {
      "name": "python3",
      "display_name": "Python 3"
    },
    "language_info": {
      "name": "python"
    }
  },
  "cells": [
    {
      "cell_type": "markdown",
      "metadata": {
        "id": "view-in-github",
        "colab_type": "text"
      },
      "source": [
        "<a href=\"https://colab.research.google.com/github/vitorvbtf/Curso-de-python-do-curso-em-video/blob/main/Aula10.ipynb\" target=\"_parent\"><img src=\"https://colab.research.google.com/assets/colab-badge.svg\" alt=\"Open In Colab\"/></a>"
      ]
    },
    {
      "cell_type": "code",
      "execution_count": null,
      "metadata": {
        "colab": {
          "base_uri": "https://localhost:8080/"
        },
        "id": "D1k_rJzv8Myz",
        "outputId": "e9c83f8d-d3c2-4d79-cf15-7ce19a7f428b"
      },
      "outputs": [
        {
          "output_type": "stream",
          "name": "stdout",
          "text": [
            "Digite o seu nome: Vítor\n",
            "Que nome lindo você tem!\n",
            "Olá, Vítor\n"
          ]
        }
      ],
      "source": [
        "nome =  input(\"Digite o seu nome: \")\n",
        "if nome == 'Vítor':\n",
        "  print('Que nome lindo você tem!')\n",
        "  print('Olá, Vítor')\n",
        "else:\n",
        "  print('Olá, {}'.format(nome))"
      ]
    },
    {
      "cell_type": "code",
      "source": [
        "nota1 = float(input('Digite a sua primeira nota: '))\n",
        "nota2 = float(input('Digite a sua segunda nota: '))\n",
        "media = (nota1 + nota2) / 2 \n",
        "print('A sua média é {:.1f}'.format(media))\n",
        "\n",
        "if media >= 6:\n",
        "  print('Sua média foi boa! PARABÉNS!')\n",
        "else:\n",
        "  print('Sua média foi ruim! ESTUDE MAIS')"
      ],
      "metadata": {
        "colab": {
          "base_uri": "https://localhost:8080/"
        },
        "id": "1xYlq1Sc9oZo",
        "outputId": "91f07fc6-4724-43ae-88a8-244d66c0c439"
      },
      "execution_count": null,
      "outputs": [
        {
          "output_type": "stream",
          "name": "stdout",
          "text": [
            "Digite a sua primeira nota: 5.4\n",
            "Digite a sua segunda nota: 6.9\n",
            "A sua média é 6.2\n",
            "Sua média foi boa! PARABÉNS!\n"
          ]
        }
      ]
    },
    {
      "cell_type": "markdown",
      "source": [
        "Desafio 028"
      ],
      "metadata": {
        "id": "GvbA3nkOAPDM"
      }
    },
    {
      "cell_type": "code",
      "source": [
        "import random\n",
        "from time import sleep\n",
        "print('Vou pensar no numero de 0 a 5, tente adivnhar!')\n",
        "print('-'*40)\n",
        "numero_do_participante = int(input('Digite um número: '))  \n",
        "numero_sorteado = random.randrange(0,5)\n",
        "print('PROCESSANDO...')\n",
        "sleep(2)\n",
        "if numero_sorteado == numero_do_participante:\n",
        "  print('Você ganhou! parabéns!')\n",
        "else:\n",
        "  print('Eu ganhei! eu pensei no número {} e não no numero {}'.format(numero_sorteado, numero_do_participante))\n"
      ],
      "metadata": {
        "colab": {
          "base_uri": "https://localhost:8080/"
        },
        "id": "xMNpGxIaAVaG",
        "outputId": "62334ccf-7571-4dd0-f3d8-f40dd3eaad63"
      },
      "execution_count": 17,
      "outputs": [
        {
          "output_type": "stream",
          "name": "stdout",
          "text": [
            "Vou pensar no numero de 0 a 5, tente adivnhar!\n",
            "----------------------------------------\n",
            "Digite um número: 2\n",
            "PROCESSANDO...\n",
            "Você ganhou! parabéns!\n"
          ]
        }
      ]
    },
    {
      "cell_type": "markdown",
      "source": [
        "Desafio 029"
      ],
      "metadata": {
        "id": "DD9mlypzCqEj"
      }
    },
    {
      "cell_type": "code",
      "source": [
        "velocidade = int(input(\"Digite a velocidade de um carro: \"))\n",
        "multa = velocidade - 80 \n",
        "valor_da_multa = 7 * multa\n",
        "if velocidade > 80:\n",
        "  print('Esse carro foi multado')\n",
        "  print('o valor da multa é R${}'.format(valor_da_multa))\n",
        "else:\n",
        "  print('O carro está na velocidade permitida')"
      ],
      "metadata": {
        "id": "SL39IakHCtKk",
        "colab": {
          "base_uri": "https://localhost:8080/"
        },
        "outputId": "45a3f99d-c748-4201-da5c-be5dd50476fb"
      },
      "execution_count": 23,
      "outputs": [
        {
          "output_type": "stream",
          "name": "stdout",
          "text": [
            "Digite a velocidade de um carro: 120\n",
            "Esse carro foi multado\n",
            "o valor da multa é R$280\n"
          ]
        }
      ]
    },
    {
      "cell_type": "markdown",
      "source": [
        "Desafio 030\n"
      ],
      "metadata": {
        "id": "zkZCiJoqEiA7"
      }
    },
    {
      "cell_type": "code",
      "source": [
        "numero = int(input('Digite um número: '))\n",
        "if numero % 2 == 0:\n",
        "  print('Esse número é par')\n",
        "else:\n",
        "  print('Esse numero é impar')"
      ],
      "metadata": {
        "colab": {
          "base_uri": "https://localhost:8080/"
        },
        "id": "SlS6y9EXElS9",
        "outputId": "538cd878-b25f-46d4-9aad-b70e2115e9f2"
      },
      "execution_count": null,
      "outputs": [
        {
          "output_type": "stream",
          "name": "stdout",
          "text": [
            "Digite um número: 325697\n",
            "Esse numero é impar\n"
          ]
        }
      ]
    },
    {
      "cell_type": "markdown",
      "source": [
        "Desafio 031"
      ],
      "metadata": {
        "id": "hXPLGznXG7H1"
      }
    },
    {
      "cell_type": "code",
      "source": [
        "distancia = int(input('Digite a distância em KM da sua viagem: '))\n",
        "calc1 = 0.50 * distancia\n",
        "calc2 = 0.45 * distancia\n",
        "if distancia <= 200:\n",
        "    print(calc1)\n",
        "else: \n",
        "   print(calc2)"
      ],
      "metadata": {
        "colab": {
          "base_uri": "https://localhost:8080/"
        },
        "id": "Dm9OhdPTFxMi",
        "outputId": "8c59776c-3653-4cd4-feb1-581c45484715"
      },
      "execution_count": 2,
      "outputs": [
        {
          "output_type": "stream",
          "name": "stdout",
          "text": [
            "Digite a distância em KM da sua viagem: 210\n",
            "94.5\n"
          ]
        }
      ]
    },
    {
      "cell_type": "markdown",
      "source": [
        "Desafio 032 "
      ],
      "metadata": {
        "id": "Of_wRl81G-BK"
      }
    },
    {
      "cell_type": "code",
      "source": [
        "from datetime import date\n",
        "print('Descubra se o ano que você digitou é bissexto!!')\n",
        "print('-' * 30)\n",
        "ano = int(input('Digite aqui qualquer ano '))\n",
        "if ano == 0:\n",
        "  ano = date.today().year\n",
        "if ano % 4 == 0 and ano % 100 != 0 or ano % 400 == 0:\n",
        "  print('O ano de {}, é um ano bissexto!'.format(ano))\n",
        "else:\n",
        "  print('o ano de {} não é bissexto.'.format(ano))"
      ],
      "metadata": {
        "colab": {
          "base_uri": "https://localhost:8080/"
        },
        "id": "Mkdi02DOh-eD",
        "outputId": "d7835a85-0e14-43ca-91a8-0dd22c63dd1e"
      },
      "execution_count": 18,
      "outputs": [
        {
          "output_type": "stream",
          "name": "stdout",
          "text": [
            "Descubra se o ano que você digitou é bissexto!!\n",
            "------------------------------\n",
            "Digite aqui qualquer ano 0\n",
            "o ano de 2022 não é bissexto.\n"
          ]
        }
      ]
    },
    {
      "cell_type": "markdown",
      "source": [
        "Desafio 033"
      ],
      "metadata": {
        "id": "JDWtAGhFkP83"
      }
    },
    {
      "cell_type": "code",
      "source": [
        "print('Digite 3 numeros, e descubra o maior e o menor')\n",
        "print('-' * 40)\n",
        "\n",
        "numero1 = int(input('Digite aqui um número: '))\n",
        "numero2 = int(input('Digite aqui outro número: '))\n",
        "numero3 = int(input('Digite aqui outro número: '))\n",
        "\n",
        "if numero1 < numero2 :\n",
        "  menor = numero1\n",
        "else:\n",
        "  menor = numero2\n",
        "if menor < numero3:\n",
        "  print('O menor número é o {}'. format(menor))\n",
        "else:\n",
        "   menor = numero3\n",
        "   print('O menor número é o {}'. format(menor))\n",
        "\n",
        "if numero1 > numero2:\n",
        "  maior = numero1\n",
        "else: \n",
        "  maior =  numero2\n",
        "if maior > numero3:\n",
        "  print('O maior numero é o {}'.format(maior))\n",
        "else:\n",
        "  print('O maior numero é o {}'.format(numero3))"
      ],
      "metadata": {
        "id": "wQa6bj2rkSJo",
        "colab": {
          "base_uri": "https://localhost:8080/"
        },
        "outputId": "6448ff0c-9b86-445a-b6f4-4b8824b49339"
      },
      "execution_count": 19,
      "outputs": [
        {
          "output_type": "stream",
          "name": "stdout",
          "text": [
            "Digite 3 numeros, e descubra o maior e o menor\n",
            "----------------------------------------\n",
            "Digite aqui um número: 7\n",
            "Digite aqui outro número: 2\n",
            "Digite aqui outro número: 4\n",
            "O menor número é o 2\n",
            "O maior numero é o 7\n"
          ]
        }
      ]
    },
    {
      "cell_type": "markdown",
      "source": [
        "Desafio 034"
      ],
      "metadata": {
        "id": "njE9ELYCn1GK"
      }
    },
    {
      "cell_type": "code",
      "source": [
        "salario = float(input('Digite o seu salário: '))\n",
        "if salario > 1250.00:\n",
        "  novo_salario = (salario * 0.10) + salario\n",
        "  print('O seu salário aumentou 10% !! agora seu novo salário é R${}'.format(novo_salario))\n",
        "else:\n",
        "  novo_salario = (salario * 0.15) + salario\n",
        "  print('O seu salário aumentou 15% !! agora seu novo salário é R${}'.format(novo_salario))"
      ],
      "metadata": {
        "colab": {
          "base_uri": "https://localhost:8080/"
        },
        "id": "jZZplK06nz-O",
        "outputId": "95024015-29bb-4695-fef3-5018cec39625"
      },
      "execution_count": 23,
      "outputs": [
        {
          "output_type": "stream",
          "name": "stdout",
          "text": [
            "Digite o seu salário: 9000\n",
            "O seu salário aumentou 10% !! agora seu novo salário é R$9900.0\n"
          ]
        }
      ]
    },
    {
      "cell_type": "markdown",
      "source": [
        "Desafio 035"
      ],
      "metadata": {
        "id": "C2eFAyzWsJRO"
      }
    },
    {
      "cell_type": "code",
      "source": [
        "print('Descubra se o comprimento de 3 retas podem formar um triângulo')\n",
        "print('-' * 40)\n",
        "\n",
        "reta1 = float(input('digite o valor da primeira reta: '))\n",
        "reta2 = float(input('digite o valor da segunda reta: '))\n",
        "reta3 = float(input('digite o valor da terceira reta: '))\n",
        "\n",
        "calculo1 = reta1 - reta2\n",
        "calculo2 = reta1 + reta2\n",
        "if calculo1 < reta3 < calculo2: \n",
        "  print('O comprimentos dessas três retas podem formar um triângulo')\n",
        "else: \n",
        "  print('O comprimento dessas três retas não podem formar um triângulo')"
      ],
      "metadata": {
        "colab": {
          "base_uri": "https://localhost:8080/"
        },
        "id": "WxZ34WB-sISM",
        "outputId": "0c9d79d9-2b72-440d-d622-4657a3264ac7"
      },
      "execution_count": 25,
      "outputs": [
        {
          "output_type": "stream",
          "name": "stdout",
          "text": [
            "Descubra se o comprimento de 3 retas podem formar um triângulo\n",
            "----------------------------------------\n",
            "digite o valor da primeira reta: 2\n",
            "digite o valor da segunda reta: 4\n",
            "digite o valor da terceira reta: 9\n",
            "O comprimento dessas três retas não podem formar um triângulo\n"
          ]
        }
      ]
    }
  ]
}