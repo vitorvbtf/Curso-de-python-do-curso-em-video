{
  "nbformat": 4,
  "nbformat_minor": 0,
  "metadata": {
    "colab": {
      "name": "Aula_07",
      "provenance": [],
      "collapsed_sections": [],
      "authorship_tag": "ABX9TyN3TankU+VNDfuv9tRp3GCp",
      "include_colab_link": true
    },
    "kernelspec": {
      "name": "python3",
      "display_name": "Python 3"
    },
    "language_info": {
      "name": "python"
    }
  },
  "cells": [
    {
      "cell_type": "markdown",
      "metadata": {
        "id": "view-in-github",
        "colab_type": "text"
      },
      "source": [
        "<a href=\"https://colab.research.google.com/github/vitorvbtf/Curso-de-python-do-curso-em-video/blob/main/Aula_07.ipynb\" target=\"_parent\"><img src=\"https://colab.research.google.com/assets/colab-badge.svg\" alt=\"Open In Colab\"/></a>"
      ]
    },
    {
      "cell_type": "code",
      "execution_count": null,
      "metadata": {
        "colab": {
          "base_uri": "https://localhost:8080/"
        },
        "id": "CzXvX3nWXyE2",
        "outputId": "4cb3f64c-ba47-4bca-d168-de769762f9c7"
      },
      "outputs": [
        {
          "output_type": "stream",
          "name": "stdout",
          "text": [
            "11\n",
            "25\n",
            "125\n",
            "9\n",
            "9.5\n",
            "33481086732485792929593076870833256003386069640113174227776756808477564404339323572933993122030415665022192136314327347945389901384221451353049490395809863065131520188055102138858718271712330313937174343429818364167368001565480534711623142808363413169983454137018330230316713695269769926173810943501492743324098112348312913945624441000206188121722595747503746152338637522856724904401526452755703718165657935920015377231613904151791954922636427561437927946140429931037548206481775169426749899855812929744566193696636891258070198242863626976414641249490761062819502852407296\n",
            "0\n",
            "9.0\n",
            "5.104468722001463\n"
          ]
        }
      ],
      "source": [
        "calculo1 = 5 + 3 * 2\n",
        "calculo2 = 5 ** 2\n",
        "calculo3 = 5 ** 3\n",
        "calculo4 = 19 // 2\n",
        "calculo5 = 19 / 2\n",
        "calculo6 = 356 ** 224\n",
        "calculo7 = 18 % 2\n",
        "calculo8= 81 ** (1/2)\n",
        "calculo9 = 133 ** (1/3)\n",
        "print(calculo1)\n",
        "print(calculo2)\n",
        "print(calculo3)\n",
        "print(calculo4)\n",
        "print(calculo5)\n",
        "print(calculo6)\n",
        "print(calculo7)\n",
        "print(calculo8)\n",
        "print(calculo9)"
      ]
    },
    {
      "cell_type": "code",
      "source": [
        "ex1 = 'oi' + 'ola'\n",
        "ex2 = 'oi' * 5\n",
        "ex3 = '=' * 20\n",
        "\n",
        "print(ex1)\n",
        "print(ex2)\n",
        "print(ex3)\n"
      ],
      "metadata": {
        "colab": {
          "base_uri": "https://localhost:8080/"
        },
        "id": "pnVd9ByYavv3",
        "outputId": "d3b87866-0e18-4098-b5f8-bae1130de249"
      },
      "execution_count": null,
      "outputs": [
        {
          "output_type": "stream",
          "name": "stdout",
          "text": [
            "oiola\n",
            "oioioioioi\n",
            "====================\n"
          ]
        }
      ]
    },
    {
      "cell_type": "code",
      "source": [
        "n1 = int(input('Digite um número: '))\n",
        "n2 = int(input('Digite mais um número: '))\n",
        "print('A soma vale = {}'.format(n1+n2))"
      ],
      "metadata": {
        "id": "kerjpmdybb2y",
        "colab": {
          "base_uri": "https://localhost:8080/"
        },
        "outputId": "795f5d43-24fd-44cd-d516-838608bb1967"
      },
      "execution_count": null,
      "outputs": [
        {
          "name": "stdout",
          "output_type": "stream",
          "text": [
            "Digite um número: 10\n"
          ]
        }
      ]
    },
    {
      "cell_type": "code",
      "source": [
        "a = 3.89582625\n",
        "print('o valor de {:.2f}'.format(a))"
      ],
      "metadata": {
        "colab": {
          "base_uri": "https://localhost:8080/"
        },
        "id": "O9ZhrizmfGz2",
        "outputId": "11c77d87-efab-4c3f-a8cc-9706b5845616"
      },
      "execution_count": null,
      "outputs": [
        {
          "output_type": "stream",
          "name": "stdout",
          "text": [
            "o valor de 3.90\n"
          ]
        }
      ]
    },
    {
      "cell_type": "code",
      "source": [
        "a = 5 \n",
        "b = 6 \n",
        "c = 7\n",
        "\n",
        "print('o valor de {}\\n {}\\n {}'.format(a,b,c))"
      ],
      "metadata": {
        "colab": {
          "base_uri": "https://localhost:8080/"
        },
        "id": "7UBQjRkVfwgD",
        "outputId": "7f92d75f-1a42-484d-a9e0-ff1f6af4d354"
      },
      "execution_count": null,
      "outputs": [
        {
          "output_type": "stream",
          "name": "stdout",
          "text": [
            "o valor de 5\n",
            " 6\n",
            " 7\n"
          ]
        }
      ]
    },
    {
      "cell_type": "code",
      "source": [
        "print('olá mundo, ', end='')\n",
        "print('Tudo bem? ', end= '')\n",
        "print('O que você está fazendo? ')"
      ],
      "metadata": {
        "colab": {
          "base_uri": "https://localhost:8080/"
        },
        "id": "2rUbFaGKgtMd",
        "outputId": "0715574e-79d9-48b4-8b60-11eb9b418165"
      },
      "execution_count": null,
      "outputs": [
        {
          "output_type": "stream",
          "name": "stdout",
          "text": [
            "olá mundo, Tudo bem? O que você está fazendo? \n"
          ]
        }
      ]
    },
    {
      "cell_type": "markdown",
      "source": [
        "Desafio 005\n"
      ],
      "metadata": {
        "id": "gAKPrPHrih5p"
      }
    },
    {
      "cell_type": "code",
      "source": [
        "valor1 = int(input('digite um valor inteiro: '))\n",
        "antecessor = valor1 - 1\n",
        "sucessor = valor1 + 1\n",
        "print('O antecessor de {} é {}, e o sucessor é {}'.format(valor1, antecessor,\n",
        "sucessor))"
      ],
      "metadata": {
        "colab": {
          "base_uri": "https://localhost:8080/"
        },
        "id": "rl-n6VYDikGd",
        "outputId": "fb9bfff2-268b-4875-ac4f-5083c0a02014"
      },
      "execution_count": null,
      "outputs": [
        {
          "output_type": "stream",
          "name": "stdout",
          "text": [
            "digite um valor inteiro: 10\n",
            "O antecessor de 10 é 9, e o sucessor é 11\n"
          ]
        }
      ]
    },
    {
      "cell_type": "markdown",
      "source": [
        "Desafio 006"
      ],
      "metadata": {
        "id": "w_DzRD-GjfSV"
      }
    },
    {
      "cell_type": "code",
      "source": [
        "n1 = int(input('Digite um número: '))\n",
        "print('O dobro desse número é {}'.format(n1 * 2))\n",
        "print('O triplo desse número é {}'.format(n1 * 3))\n",
        "print('A raiz quadrada desse número é {}'.format(n1 ** (1/2)))"
      ],
      "metadata": {
        "id": "kYpqvIasjhke",
        "colab": {
          "base_uri": "https://localhost:8080/"
        },
        "outputId": "b1e1e904-d8d7-44d3-ca7d-ccad1d3bc6e8"
      },
      "execution_count": null,
      "outputs": [
        {
          "output_type": "stream",
          "name": "stdout",
          "text": [
            "Digite um número: 85\n",
            "O dobro desse número é 170\n",
            "O triplo desse número é 255\n",
            "A raiz quadrada desse número é 9.219544457292887\n"
          ]
        }
      ]
    },
    {
      "cell_type": "markdown",
      "source": [
        "Desafio 007"
      ],
      "metadata": {
        "id": "VHeT56ZglYy4"
      }
    },
    {
      "cell_type": "code",
      "source": [
        "nota1 = float(input('Digite a primeira nota do aluno: '))\n",
        "nota2 = float(input('Digite a segunda nota do aluno: '))\n",
        "\n",
        "print('A média do aluno é: {}'.format((nota1 + nota2)/2))"
      ],
      "metadata": {
        "colab": {
          "base_uri": "https://localhost:8080/"
        },
        "id": "4pCzZj4ikcqK",
        "outputId": "dfa4d320-1006-4222-e3fc-86e4cd9b3322"
      },
      "execution_count": null,
      "outputs": [
        {
          "output_type": "stream",
          "name": "stdout",
          "text": [
            "Digite a primeira nota do aluno: 5.5\n",
            "Digite a segunda nota do aluno: 2.0\n",
            "A média do aluno é: 3.75\n"
          ]
        }
      ]
    },
    {
      "cell_type": "markdown",
      "source": [
        "Desafio 008\n"
      ],
      "metadata": {
        "id": "M-C6dVMglnuf"
      }
    },
    {
      "cell_type": "code",
      "source": [
        "ex1 = float(input('Digite o valor em metros: '))\n",
        "centimetros = ex1 * 100\n",
        "milimetros = ex1 * 1000\n",
        "print('{} metros equivale a {} centímetros e {} milímetros'.format(ex1,\n",
        "centimetros, milimetros))"
      ],
      "metadata": {
        "colab": {
          "base_uri": "https://localhost:8080/"
        },
        "id": "Ru0mkxY6lpuQ",
        "outputId": "4db970b7-598c-4b99-c2fe-61934b200264"
      },
      "execution_count": null,
      "outputs": [
        {
          "output_type": "stream",
          "name": "stdout",
          "text": [
            "Digite o valor em metros: 3\n",
            "3.0 metros equivale a 300.0 centímetros e 3000.0 milímetros\n"
          ]
        }
      ]
    },
    {
      "cell_type": "markdown",
      "source": [
        "Desafio 009\n"
      ],
      "metadata": {
        "id": "JpafWC82m8bE"
      }
    },
    {
      "cell_type": "code",
      "source": [
        "numero1 = int(input('Digite um número inteiro '))\n",
        "print('A tabuada de {}\\n{} * 1 = {}\\n{} * 2 = {}\\n{} * 3 = {}\\n{} * 4 = {}\\n{} * 5 = {}\\n{} * 6 = {}\\n{} * 7 = {}\\n{} * 8 = {}\\n{} * 9 = {}\\n{} * 10 = {}'.format\n",
        "(numero1, numero1, numero1 * 1, numero1, numero1 * 2, numero1, numero1 * 3, numero1, numero1 * 4, numero1, numero1 * 5, numero1, numero1 * 6, numero1, numero1 * 7, numero1, numero1 * 8, numero1, numero1 * 9, numero1, numero1 * 10))"
      ],
      "metadata": {
        "colab": {
          "base_uri": "https://localhost:8080/"
        },
        "id": "LV2lLFMsnAK1",
        "outputId": "65ed64b0-342f-4ff6-9696-3a3e0501b9b2"
      },
      "execution_count": null,
      "outputs": [
        {
          "output_type": "stream",
          "name": "stdout",
          "text": [
            "Digite um número inteiro 6\n",
            "A tabuada de 6\n",
            "6 * 1 = 6\n",
            "6 * 2 = 12\n",
            "6 * 3 = 18\n",
            "6 * 4 = 24\n",
            "6 * 5 = 30\n",
            "6 * 6 = 36\n",
            "6 * 7 = 42\n",
            "6 * 8 = 48\n",
            "6 * 9 = 54\n",
            "6 * 10 = 60\n"
          ]
        }
      ]
    },
    {
      "cell_type": "markdown",
      "source": [
        "Desafio 010"
      ],
      "metadata": {
        "id": "K35LKbuwqRfX"
      }
    },
    {
      "cell_type": "code",
      "source": [
        "dinheiro = float(input('digite o valor em reais que você possui: '))\n",
        "print('Você pode comprar {:.2f} dólares'.format(dinheiro / 3.27))"
      ],
      "metadata": {
        "colab": {
          "base_uri": "https://localhost:8080/"
        },
        "id": "gorO7u0jqTLY",
        "outputId": "a8bcd845-97ac-4cc4-a717-88e22e3b7fdd"
      },
      "execution_count": null,
      "outputs": [
        {
          "output_type": "stream",
          "name": "stdout",
          "text": [
            "digite o valor em reais que você possui: 19.88\n",
            "Você pode comprar 6.08 dólares\n"
          ]
        }
      ]
    },
    {
      "cell_type": "markdown",
      "source": [
        "Desafio 011"
      ],
      "metadata": {
        "id": "Z4ISHzrurypw"
      }
    },
    {
      "cell_type": "code",
      "source": [
        "altura = float(input('Digite a altura da sua parede: '))\n",
        "largura = float (input('Digite a largura da dua parede: '))\n",
        "tamanho_da_parede = altura * largura\n",
        "litros_necessarios = tamanho_da_parede / 2\n",
        "print('É necessario {} litros para pintar uma parede de {}m²'.format(litros_necessarios,\n",
        "tamanho_da_parede))"
      ],
      "metadata": {
        "colab": {
          "base_uri": "https://localhost:8080/"
        },
        "id": "TRShAr1jr13t",
        "outputId": "c814a628-2409-4756-b8bc-9e54d358bb68"
      },
      "execution_count": null,
      "outputs": [
        {
          "output_type": "stream",
          "name": "stdout",
          "text": [
            "Digite a altura da sua parede: 1.75\n",
            "Digite a largura da dua parede: 2.5\n",
            "É necessario 2.1875 litros para pintar uma parede de 4.375m²\n"
          ]
        }
      ]
    },
    {
      "cell_type": "markdown",
      "source": [
        "Desafio 012\n"
      ],
      "metadata": {
        "id": "Oh3foU-yti8s"
      }
    },
    {
      "cell_type": "code",
      "source": [
        "preco = float(input('Digite o preço do produto '))\n",
        "desconto = preco * 0.05\n",
        "valor_total = preco - desconto\n",
        "print('Com 5% de desconto fica {}'.format(valor_total))"
      ],
      "metadata": {
        "colab": {
          "base_uri": "https://localhost:8080/"
        },
        "id": "gBkPVecXtk-k",
        "outputId": "75c3fbe6-bd10-4d47-bd65-f6ef26cfc7a1"
      },
      "execution_count": null,
      "outputs": [
        {
          "output_type": "stream",
          "name": "stdout",
          "text": [
            "Digite o preço do produto 123.95\n",
            "Com 5% de desconto fica 117.7525\n"
          ]
        }
      ]
    },
    {
      "cell_type": "markdown",
      "source": [
        "Desafio 013\n"
      ],
      "metadata": {
        "id": "eSQV2PFZvtyM"
      }
    },
    {
      "cell_type": "code",
      "source": [
        "salario = float(input('Digite o seu salário: '))\n",
        "juros = salario * 0.15\n",
        "novo_salario = salario + juros\n",
        "print('O seu salário é {}'.format(novo_salario))"
      ],
      "metadata": {
        "colab": {
          "base_uri": "https://localhost:8080/"
        },
        "id": "f2LGUdouvsbH",
        "outputId": "172ea20d-3816-4070-961d-a9be4e081790"
      },
      "execution_count": null,
      "outputs": [
        {
          "output_type": "stream",
          "name": "stdout",
          "text": [
            "Digite o seu salário: 4319.43\n",
            "O seu salário é 4967.3445\n"
          ]
        }
      ]
    },
    {
      "cell_type": "code",
      "source": [
        "celsius = float(input('qual a temperatura em celsius? '))\n",
        "calculo = (celsius * 1.8) + 32\n",
        "print('{}C°, equivale a {} fahrenheit'.format(celsius, calculo))"
      ],
      "metadata": {
        "colab": {
          "base_uri": "https://localhost:8080/"
        },
        "id": "i773tcKbMK-V",
        "outputId": "bcd9a1d2-5682-4dcf-fbc6-a1c92daec405"
      },
      "execution_count": 4,
      "outputs": [
        {
          "output_type": "stream",
          "name": "stdout",
          "text": [
            "qual a temperatura em celsius? 31.5\n",
            "31.5C°, equivale a 88.7 fahrenheit\n"
          ]
        }
      ]
    },
    {
      "cell_type": "code",
      "source": [
        "km_rodado = int(input('quantos kilomêtros foi rodado com esse carro no periodo de aluguel: '))\n",
        "dias = int(input('quantos dias este carro foi alugado: ')) \n",
        "\n",
        "calculo_dos_dias = dias * 60\n",
        "calculo_dos_km = km_rodado * 0.15\n",
        "preco_final = calculo_dos_dias + calculo_dos_km\n",
        "print('o valor deste aluguel é R${}'.format(preco_final))"
      ],
      "metadata": {
        "colab": {
          "base_uri": "https://localhost:8080/"
        },
        "id": "msqYeCY1OWjX",
        "outputId": "0ac97cd8-0922-4eee-c04a-947feead313e"
      },
      "execution_count": 7,
      "outputs": [
        {
          "output_type": "stream",
          "name": "stdout",
          "text": [
            "quantos kilomêtros foi rodado com esse carro no periodo de aluguel: 78\n",
            "quantos dias este carro foi alugado: 2\n",
            "o valor deste aluguel é R$131.7\n"
          ]
        }
      ]
    }
  ]
}