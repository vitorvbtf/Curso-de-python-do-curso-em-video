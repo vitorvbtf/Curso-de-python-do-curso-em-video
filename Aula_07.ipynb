{
  "nbformat": 4,
  "nbformat_minor": 0,
  "metadata": {
    "colab": {
      "name": "Aula_07",
      "provenance": [],
      "collapsed_sections": [],
      "authorship_tag": "ABX9TyMWaR0iiau/B8/4Z+NHvCns",
      "include_colab_link": true
    },
    "kernelspec": {
      "name": "python3",
      "display_name": "Python 3"
    },
    "language_info": {
      "name": "python"
    }
  },
  "cells": [
    {
      "cell_type": "markdown",
      "metadata": {
        "id": "view-in-github",
        "colab_type": "text"
      },
      "source": [
        "<a href=\"https://colab.research.google.com/github/vitorvbtf/Curso-de-python-do-curso-em-video/blob/main/Aula_07.ipynb\" target=\"_parent\"><img src=\"https://colab.research.google.com/assets/colab-badge.svg\" alt=\"Open In Colab\"/></a>"
      ]
    },
    {
      "cell_type": "code",
      "execution_count": 12,
      "metadata": {
        "colab": {
          "base_uri": "https://localhost:8080/"
        },
        "id": "CzXvX3nWXyE2",
        "outputId": "0cf33799-718b-4161-8e10-0978b5396701"
      },
      "outputs": [
        {
          "output_type": "stream",
          "name": "stdout",
          "text": [
            "11\n",
            "25\n",
            "125\n",
            "9\n",
            "9.5\n",
            "33481086732485792929593076870833256003386069640113174227776756808477564404339323572933993122030415665022192136314327347945389901384221451353049490395809863065131520188055102138858718271712330313937174343429818364167368001565480534711623142808363413169983454137018330230316713695269769926173810943501492743324098112348312913945624441000206188121722595747503746152338637522856724904401526452755703718165657935920015377231613904151791954922636427561437927946140429931037548206481775169426749899855812929744566193696636891258070198242863626976414641249490761062819502852407296\n",
            "0\n",
            "9.0\n",
            "5.104468722001463\n"
          ]
        }
      ],
      "source": [
        "calculo1 = 5 + 3 * 2\n",
        "calculo2 = 5 ** 2\n",
        "calculo3 = 5 ** 3\n",
        "calculo4 = 19 // 2\n",
        "calculo5 = 19 / 2\n",
        "calculo6 = 356 ** 224\n",
        "calculo7 = 18 % 2\n",
        "calculo8= 81 ** (1/2)\n",
        "calculo9 = 133 ** (1/3)\n",
        "print(calculo1)\n",
        "print(calculo2)\n",
        "print(calculo3)\n",
        "print(calculo4)\n",
        "print(calculo5)\n",
        "print(calculo6)\n",
        "print(calculo7)\n",
        "print(calculo8)\n",
        "print(calculo9)"
      ]
    },
    {
      "cell_type": "code",
      "source": [
        "ex1 = 'oi' + 'ola'\n",
        "ex2 = 'oi' * 5\n",
        "ex3 = '=' * 20\n",
        "\n",
        "print(ex1)\n",
        "print(ex2)\n",
        "print(ex3)\n"
      ],
      "metadata": {
        "colab": {
          "base_uri": "https://localhost:8080/"
        },
        "id": "pnVd9ByYavv3",
        "outputId": "d3b87866-0e18-4098-b5f8-bae1130de249"
      },
      "execution_count": 15,
      "outputs": [
        {
          "output_type": "stream",
          "name": "stdout",
          "text": [
            "oiola\n",
            "oioioioioi\n",
            "====================\n"
          ]
        }
      ]
    },
    {
      "cell_type": "code",
      "source": [
        "n1 = int(input('Digite um número: '))\n",
        "n2 = int(input('Digite mais um número: '))1\n",
        "print('A soma vale = {}'.format(n1+n2))"
      ],
      "metadata": {
        "colab": {
          "base_uri": "https://localhost:8080/"
        },
        "id": "kerjpmdybb2y",
        "outputId": "62f0b419-bea3-4f4d-83c7-7e6e68d0e6bf"
      },
      "execution_count": 19,
      "outputs": [
        {
          "output_type": "stream",
          "name": "stdout",
          "text": [
            "Digite um número: 10\n",
            "Digite mais um número: 01\n",
            "A soma vale = 11\n"
          ]
        }
      ]
    },
    {
      "cell_type": "code",
      "source": [
        "a = 3.89582625\n",
        "print('o valor de {:.2f}'.format(a))"
      ],
      "metadata": {
        "colab": {
          "base_uri": "https://localhost:8080/"
        },
        "id": "O9ZhrizmfGz2",
        "outputId": "11c77d87-efab-4c3f-a8cc-9706b5845616"
      },
      "execution_count": 22,
      "outputs": [
        {
          "output_type": "stream",
          "name": "stdout",
          "text": [
            "o valor de 3.90\n"
          ]
        }
      ]
    },
    {
      "cell_type": "code",
      "source": [
        "a = 5 \n",
        "b = 6 \n",
        "c = 7\n",
        "\n",
        "print('o valor de {}\\n {}\\n {}'.format(a,b,c))"
      ],
      "metadata": {
        "colab": {
          "base_uri": "https://localhost:8080/"
        },
        "id": "7UBQjRkVfwgD",
        "outputId": "7f92d75f-1a42-484d-a9e0-ff1f6af4d354"
      },
      "execution_count": 24,
      "outputs": [
        {
          "output_type": "stream",
          "name": "stdout",
          "text": [
            "o valor de 5\n",
            " 6\n",
            " 7\n"
          ]
        }
      ]
    },
    {
      "cell_type": "code",
      "source": [
        "print('olá mundo, ', end='')\n",
        "print('Tudo bem? ', end= '')\n",
        "print('O que você está fazendo? ')"
      ],
      "metadata": {
        "colab": {
          "base_uri": "https://localhost:8080/"
        },
        "id": "2rUbFaGKgtMd",
        "outputId": "e91b2995-23f6-40bd-cd97-b5bcc823bf5f"
      },
      "execution_count": 28,
      "outputs": [
        {
          "output_type": "stream",
          "name": "stdout",
          "text": [
            "olá mundo, Tudo bem? O que você está fazendo? \n"
          ]
        }
      ]
    },
    {
      "cell_type": "markdown",
      "source": [
        "Desafio 005\n"
      ],
      "metadata": {
        "id": "gAKPrPHrih5p"
      }
    },
    {
      "cell_type": "code",
      "source": [
        "valor1 = int(input('digite um valor inteiro: '))\n",
        "antecessor = valor1 - 1\n",
        "sucessor = valor1 + 1\n",
        "print('O antecessor de {} é {}, e o sucessor é {}'.format(valor1, antecessor,\n",
        "sucessor))"
      ],
      "metadata": {
        "colab": {
          "base_uri": "https://localhost:8080/"
        },
        "id": "rl-n6VYDikGd",
        "outputId": "fb9bfff2-268b-4875-ac4f-5083c0a02014"
      },
      "execution_count": 29,
      "outputs": [
        {
          "output_type": "stream",
          "name": "stdout",
          "text": [
            "digite um valor inteiro: 10\n",
            "O antecessor de 10 é 9, e o sucessor é 11\n"
          ]
        }
      ]
    },
    {
      "cell_type": "markdown",
      "source": [
        "Desafio 006"
      ],
      "metadata": {
        "id": "w_DzRD-GjfSV"
      }
    },
    {
      "cell_type": "code",
      "source": [
        "n1 = int(input('Digite um número: '))\n",
        "print('O dobro desse número é {}'.format(n1 ** 2))\n",
        "print('O triplo desse número é {}'.format(n1 ** 3))\n",
        "print('A raiz quadrada desse número é {}'.format(n1 ** (1/2)))"
      ],
      "metadata": {
        "colab": {
          "base_uri": "https://localhost:8080/"
        },
        "id": "kYpqvIasjhke",
        "outputId": "583c1933-9812-478f-bf92-cf8d3a0e7e6b"
      },
      "execution_count": 30,
      "outputs": [
        {
          "output_type": "stream",
          "name": "stdout",
          "text": [
            "Digite um número: 5\n",
            "O dobro desse número é 25\n",
            "O triplo desse número é 125\n",
            "A raiz quadrada desse número é 2.23606797749979\n"
          ]
        }
      ]
    },
    {
      "cell_type": "markdown",
      "source": [
        "Desafio 007"
      ],
      "metadata": {
        "id": "VHeT56ZglYy4"
      }
    },
    {
      "cell_type": "code",
      "source": [
        "nota1 = float(input('Digite a primeira nota do aluno: '))\n",
        "nota2 = float(input('Digite a segunda nota do aluno: '))\n",
        "\n",
        "print('A média do aluno é: {}'.format((nota1 + nota2)/2))"
      ],
      "metadata": {
        "colab": {
          "base_uri": "https://localhost:8080/"
        },
        "id": "4pCzZj4ikcqK",
        "outputId": "73da284c-4069-444b-b851-0d3a2c74d753"
      },
      "execution_count": 33,
      "outputs": [
        {
          "output_type": "stream",
          "name": "stdout",
          "text": [
            "Digite a primeira nota do aluno: 8\n",
            "Digite a segunda nota do aluno: 5\n",
            "A média do aluno é: 6.5\n"
          ]
        }
      ]
    },
    {
      "cell_type": "markdown",
      "source": [
        "Desafio 008\n"
      ],
      "metadata": {
        "id": "M-C6dVMglnuf"
      }
    },
    {
      "cell_type": "code",
      "source": [
        "ex1 = float(input('Digite o valor em metros: '))\n",
        "centimetros = ex1 * 100\n",
        "milimetros = ex1 * 1000\n",
        "print('{} metros equivale a {} centímetros e {} milímetros'.format(ex1,\n",
        "centimetros, milimetros))"
      ],
      "metadata": {
        "colab": {
          "base_uri": "https://localhost:8080/"
        },
        "id": "Ru0mkxY6lpuQ",
        "outputId": "93e43905-3b1e-492a-be6a-ae64451c9147"
      },
      "execution_count": 34,
      "outputs": [
        {
          "output_type": "stream",
          "name": "stdout",
          "text": [
            "Digite o valor em metros: 5\n",
            "5.0 metros equivale a 500.0 centímetros e 5000.0 milímetros\n"
          ]
        }
      ]
    },
    {
      "cell_type": "markdown",
      "source": [
        "Desafio 009\n"
      ],
      "metadata": {
        "id": "JpafWC82m8bE"
      }
    },
    {
      "cell_type": "code",
      "source": [
        "numero1 = int(input('Digite um número inteiro '))\n",
        "print('A tabuada de {}\\n{} * 1 = {}\\n{} * 2 = {}\\n{} * 3 = {}\\n{} * 4 = {}\\n{} * 5 = {}\\n{} * 6 = {}\\n{} * 7 = {}\\n{} * 8 = {}\\n{} * 9 = {}\\n{} * 10 = {}'.format\n",
        "(numero1, numero1, numero1 * 1, numero1, numero1 * 2, numero1, numero1 * 3, numero1, numero1 * 4, numero1, numero1 * 5, numero1, numero1 * 6, numero1, numero1 * 7, numero1, numero1 * 8, numero1, numero1 * 9, numero1, numero1 * 10))"
      ],
      "metadata": {
        "colab": {
          "base_uri": "https://localhost:8080/"
        },
        "id": "LV2lLFMsnAK1",
        "outputId": "65ed64b0-342f-4ff6-9696-3a3e0501b9b2"
      },
      "execution_count": 40,
      "outputs": [
        {
          "output_type": "stream",
          "name": "stdout",
          "text": [
            "Digite um número inteiro 6\n",
            "A tabuada de 6\n",
            "6 * 1 = 6\n",
            "6 * 2 = 12\n",
            "6 * 3 = 18\n",
            "6 * 4 = 24\n",
            "6 * 5 = 30\n",
            "6 * 6 = 36\n",
            "6 * 7 = 42\n",
            "6 * 8 = 48\n",
            "6 * 9 = 54\n",
            "6 * 10 = 60\n"
          ]
        }
      ]
    },
    {
      "cell_type": "markdown",
      "source": [
        "Desafio 010"
      ],
      "metadata": {
        "id": "K35LKbuwqRfX"
      }
    },
    {
      "cell_type": "code",
      "source": [
        "dinheiro = float(input('digite o valor em reais que você possui: '))\n",
        "print('Você pode comprar {:.2f} dólares'.format(dinheiro / 3.27))"
      ],
      "metadata": {
        "colab": {
          "base_uri": "https://localhost:8080/"
        },
        "id": "gorO7u0jqTLY",
        "outputId": "0e3f0f67-0207-4b48-80da-cf3a8341d3d3"
      },
      "execution_count": 44,
      "outputs": [
        {
          "output_type": "stream",
          "name": "stdout",
          "text": [
            "digite o valor em reais que você possui: 50\n",
            "Você pode comprar 15.29 dólares\n"
          ]
        }
      ]
    },
    {
      "cell_type": "markdown",
      "source": [
        "Desafio 011"
      ],
      "metadata": {
        "id": "Z4ISHzrurypw"
      }
    },
    {
      "cell_type": "code",
      "source": [
        "altura = float(input('Digite a altura da sua parede: '))\n",
        "largura = float (input('Digite a largura da dua parede: '))\n",
        "tamanho_da_parede = altura * largura\n",
        "litros_necessarios = tamanho_da_parede ** 2\n",
        "print('É necessario {} litros para pintar uma parede de {}m²'.format(litros_necessarios,\n",
        "tamanho_da_parede))"
      ],
      "metadata": {
        "colab": {
          "base_uri": "https://localhost:8080/"
        },
        "id": "TRShAr1jr13t",
        "outputId": "bd7b7997-99b2-4ba7-e681-0726c5e65577"
      },
      "execution_count": 46,
      "outputs": [
        {
          "output_type": "stream",
          "name": "stdout",
          "text": [
            "Digite a altura da sua parede: 20\n",
            "Digite a largura da dua parede: 20\n",
            "É necessario 160000.0 litros para pintar uma parede de 400.0m²\n"
          ]
        }
      ]
    },
    {
      "cell_type": "markdown",
      "source": [
        "Desafio 012\n"
      ],
      "metadata": {
        "id": "Oh3foU-yti8s"
      }
    },
    {
      "cell_type": "code",
      "source": [
        "preco = float(input('Digite o preço do produto '))\n",
        "desconto = preco * 0.05\n",
        "valor_total = preco - desconto\n",
        "print('Com 5% de desconto fica {}'.format(valor_total))"
      ],
      "metadata": {
        "colab": {
          "base_uri": "https://localhost:8080/"
        },
        "id": "gBkPVecXtk-k",
        "outputId": "7920ad51-55a8-4a94-e5d0-cd2e7cce4d67"
      },
      "execution_count": 50,
      "outputs": [
        {
          "output_type": "stream",
          "name": "stdout",
          "text": [
            "Digite o preço do produto 50\n",
            "Com 5% de desconto fica 47.5\n"
          ]
        }
      ]
    },
    {
      "cell_type": "markdown",
      "source": [
        "Desafio 013\n"
      ],
      "metadata": {
        "id": "eSQV2PFZvtyM"
      }
    },
    {
      "cell_type": "code",
      "source": [
        "salario = float(input('Digite o seu salário: '))\n",
        "juros = salario * 0.15\n",
        "novo_salario = salario + juros\n",
        "print('O seu salário é {}'.format(novo_salario))"
      ],
      "metadata": {
        "colab": {
          "base_uri": "https://localhost:8080/"
        },
        "id": "f2LGUdouvsbH",
        "outputId": "39e38496-ce19-4833-9303-0e3d284ca787"
      },
      "execution_count": 51,
      "outputs": [
        {
          "output_type": "stream",
          "name": "stdout",
          "text": [
            "Digite o seu salário: 70\n",
            "O seu salário é 80.5\n"
          ]
        }
      ]
    }
  ]
}