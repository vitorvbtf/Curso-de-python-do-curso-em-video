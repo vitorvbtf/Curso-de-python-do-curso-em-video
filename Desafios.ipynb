{
  "nbformat": 4,
  "nbformat_minor": 0,
  "metadata": {
    "colab": {
      "name": "Desafios",
      "provenance": [],
      "collapsed_sections": [],
      "toc_visible": true,
      "authorship_tag": "ABX9TyNuR/QpZXtd88qOQOZ7x4SV",
      "include_colab_link": true
    },
    "kernelspec": {
      "name": "python3",
      "display_name": "Python 3"
    },
    "language_info": {
      "name": "python"
    }
  },
  "cells": [
    {
      "cell_type": "markdown",
      "metadata": {
        "id": "view-in-github",
        "colab_type": "text"
      },
      "source": [
        "<a href=\"https://colab.research.google.com/github/vitorvbtf/Curso-de-python-do-curso-em-video/blob/main/Desafios.ipynb\" target=\"_parent\"><img src=\"https://colab.research.google.com/assets/colab-badge.svg\" alt=\"Open In Colab\"/></a>"
      ]
    },
    {
      "cell_type": "markdown",
      "source": [
        "Desafio 01\n"
      ],
      "metadata": {
        "id": "KY-9QOvcGJgv"
      }
    },
    {
      "cell_type": "code",
      "source": [
        "print('Olá mundo')"
      ],
      "metadata": {
        "id": "OYK3pmrhGiCX"
      },
      "execution_count": null,
      "outputs": []
    },
    {
      "cell_type": "markdown",
      "source": [
        "Desafio 02"
      ],
      "metadata": {
        "id": "wqMsz186fZUF"
      }
    },
    {
      "cell_type": "code",
      "source": [
        "nome =  str(input(\"Qual é o seu nome?\"))\n",
        "\n",
        "print('Olá', nome + \",\", 'seja bem-vindo')"
      ],
      "metadata": {
        "id": "up0Bd3Jofbyp"
      },
      "execution_count": null,
      "outputs": []
    },
    {
      "cell_type": "markdown",
      "source": [
        "Desafio 03"
      ],
      "metadata": {
        "id": "qAA5k6T5gsbm"
      }
    },
    {
      "cell_type": "code",
      "source": [
        "nome =  str(input(\"Qual é o seu nome?\"))\n",
        "\n",
        "print('É um prazer te conhecer, {}!' .format(nome))"
      ],
      "metadata": {
        "colab": {
          "base_uri": "https://localhost:8080/"
        },
        "id": "faLtB1RdgwXx",
        "outputId": "0be614ee-e609-4431-a8d4-1b49c03a101d"
      },
      "execution_count": 11,
      "outputs": [
        {
          "output_type": "stream",
          "name": "stdout",
          "text": [
            "Qual é o seu nome?Vítor\n",
            "É um prazer te conhecer, Vítor!\n"
          ]
        }
      ]
    }
  ]
}